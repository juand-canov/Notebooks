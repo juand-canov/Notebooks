{
 "cells": [
  {
   "cell_type": "markdown",
   "id": "eaeb60b6",
   "metadata": {},
   "source": [
    "# Repaso Markdown"
   ]
  },
  {
   "cell_type": "markdown",
   "id": "d6224599",
   "metadata": {},
   "source": [
    "# Títulos \n",
    "Todos los títulos empiezan con signo ```#```\n",
    "    \n",
    "   # Título 1 darlin 2\n",
    "   ## Título 2\n",
    "   ### Título 3\n",
    "   #### Título 4\n",
    "   ##### Título 5\n",
    "   ###### Título 6"
   ]
  },
  {
   "cell_type": "markdown",
   "id": "7b23fe60",
   "metadata": {},
   "source": [
    "# Blockquote\n",
    "\n",
    "Los _blockquotes_ se hacen con el signo ```>```\n",
    "\n",
    "> # título del blockquote\n",
    "> Este es el párrafo del blockquote\n",
    "    >> Este es un blockquote anidado\n",
    "    >> Tenemos más texto\n",
    "    > ## Segunda Parte\n",
    "    > Más texto"
   ]
  },
  {
   "cell_type": "markdown",
   "id": "4b530ff2",
   "metadata": {},
   "source": [
    "# Énfasis\n",
    "\n",
    "    \n",
    "  Se pueden poner **negrillas** con doble carácter ```**``` o un ```__```\n",
    "  se  pueden poner *italicas*  con solo caracter  ```*``` o un ```_```\n",
    "  Se hacer ~~tachado~~ utilizando doble virgulilla ```~~```\n",
    "    "
   ]
  },
  {
   "cell_type": "markdown",
   "id": "15dd3527",
   "metadata": {},
   "source": [
    "## Ordenadas\n",
    "\n",
    " \n",
    "    1. Colores\n",
    "      1. Rojo\n",
    "      2. Azul\n",
    "      3. Amarillo\n",
    "    2. Sabores \n",
    "      1. Salado\\n\n",
    "      2. Dulce\\n\n",
    "\n",
    "## No ordenadas\n",
    "\n",
    "    \n",
    "   * Animales\n",
    "      - Perro\n",
    "      - Gato\n",
    "      - Caiman\n",
    "   * Frutas\n",
    "     - Citricos\n",
    "        + Limon\n",
    "        + Naranja\n",
    "        + Toronja\n",
    "     - Manzana\n",
    "     - Pera"
   ]
  },
  {
   "cell_type": "markdown",
   "id": "33821470",
   "metadata": {},
   "source": [
    "# Enlaces\n",
    "    \n",
    "   Un enlace siempre la forma ```[nombre]()\\\"tooltip\\\"```\n",
    "   \n",
    "   ### Libros\n",
    "    \n",
    "   * [Git Book](https://git-scm.com/book/en/v2) 'Offical Books Git'\n",
    "   \n",
    "   # Imágenes\n",
    "    \n",
    "   Las imagenes tienen la forma ```![](url)```\n",
    "   ![Git](https://git-scm.com/images/logo@2x.png)"
   ]
  },
  {
   "cell_type": "code",
   "execution_count": 19,
   "id": "1f7cfa2f",
   "metadata": {},
   "outputs": [
    {
     "data": {
      "text/html": [
       "<iframe width=\\\"560\\\" height=\\\"315\\\" src=\\\"https://www.youtube.com/embed/ze8ycxc1UzE\\\" title=\\\"YouTube video player\\\" frameborder=\\\"0\\\" allow=\\\"accelerometer; autoplay; clipboard-write; encrypted-media; gyroscope; picture-in-picture\\\" allowfullscreen></iframe>\n"
      ],
      "text/plain": [
       "<IPython.core.display.HTML object>"
      ]
     },
     "metadata": {},
     "output_type": "display_data"
    }
   ],
   "source": [
    "%%HTML\n",
    "<iframe width=\\\"560\\\" height=\\\"315\\\" src=\\\"https://www.youtube.com/embed/ze8ycxc1UzE\\\" title=\\\"YouTube video player\\\" frameborder=\\\"0\\\" allow=\\\"accelerometer; autoplay; clipboard-write; encrypted-media; gyroscope; picture-in-picture\\\" allowfullscreen></iframe>\n"
   ]
  },
  {
   "cell_type": "markdown",
   "id": "8ecba69d",
   "metadata": {},
   "source": [
    "# Código\n",
    "\n",
    "   Utilizar 4 espacios:\n",
    "        frutas = ['pera', 'manzana', 'piña']\n",
    "        for fruta in frutas:\n",
    "            print(fruta)\n",
    "    En un bloque de codigo HTML, los TAGs HTML no tienen efecto:\n",
    "        <html>\n",
    "            <head>\n",
    "                <title>Tituloo</title>\n",
    "            </head>\n",
    "            <body>\n",
    "            </body>\n",
    "        </html>\n",
    "        \n",
    "   Tambien se crea un bloque de código con triple comilla invertida y la indico el lenguaje:\n",
    "    ```python\n",
    "    frutas = ['pera', 'manzana', 'piña']\n",
    "        for fruta in frutas:\n",
    "            print(fruta)\n",
    "    ```\n",
    "    Ejemplo con HTML:\n",
    "    ```html\n",
    "    <html>\n",
    "        <head>\n",
    "            <title>Tituloo</title>\n",
    "        </head>\n",
    "        <body>\n",
    "        </body>\n",
    "    </html>\n",
    "    ```\n",
    "    Ejemplo con Javascript:\n",
    "    \"\\n\",\n",
    "    ```Java\n",
    "    Persona persona = new Persona();\n",
    "    Integer num = 1\n",
    "    System.out.println(num);\n",
    "    ```"
   ]
  },
  {
   "cell_type": "markdown",
   "id": "56cfe3dc",
   "metadata": {},
   "source": [
    "# Tablas\n",
    "\n",
    "   |Cedula|Nombre|Ciudad|\n",
    "   |------|------|------|\n",
    "   |113243234|Juana|Cali|\n",
    "   |123139232|Angie|Cartago|\n",
    "   |123287632|Angie|Bogota|"
   ]
  },
  {
   "cell_type": "markdown",
   "id": "d9049e81",
   "metadata": {},
   "source": [
    "# Comandos\n",
    "\n",
    "   Para ejecutar comando se debe utilizar:\n",
    "    * Se utiliza para correr el comando en un proceso aparte del actual de Jupyter Notebook   ```!comando``` \n",
    "    * Se utiliza para correr el comando en el mismo proceso del Jupyter Notebook  ```%comando```"
   ]
  },
  {
   "cell_type": "code",
   "execution_count": null,
   "id": "a7319999",
   "metadata": {},
   "outputs": [],
   "source": [
    "!ls -l"
   ]
  },
  {
   "cell_type": "code",
   "execution_count": null,
   "id": "b58ae5ff",
   "metadata": {},
   "outputs": [],
   "source": [
    "%ls -l\n"
   ]
  },
  {
   "cell_type": "code",
   "execution_count": null,
   "id": "47a78cd8",
   "metadata": {},
   "outputs": [],
   "source": [
    "%run hola.py\n"
   ]
  },
  {
   "cell_type": "code",
   "execution_count": null,
   "id": "7b619a83",
   "metadata": {},
   "outputs": [],
   "source": [
    "%lsmagic\n"
   ]
  },
  {
   "cell_type": "code",
   "execution_count": null,
   "id": "808f1989",
   "metadata": {},
   "outputs": [],
   "source": []
  }
 ],
 "metadata": {
  "kernelspec": {
   "display_name": "Python 3",
   "language": "python",
   "name": "python3"
  },
  "language_info": {
   "codemirror_mode": {
    "name": "ipython",
    "version": 3
   },
   "file_extension": ".py",
   "mimetype": "text/x-python",
   "name": "python",
   "nbconvert_exporter": "python",
   "pygments_lexer": "ipython3",
   "version": "3.8.8"
  }
 },
 "nbformat": 4,
 "nbformat_minor": 5
}
